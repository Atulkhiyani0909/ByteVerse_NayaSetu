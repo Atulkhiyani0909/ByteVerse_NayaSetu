{
  "cells": [
    {
      "cell_type": "markdown",
      "metadata": {
        "id": "view-in-github",
        "colab_type": "text"
      },
      "source": [
        "<a href=\"https://colab.research.google.com/github/Atulkhiyani0909/ByteVerse_NayaSetu/blob/main/Chatbot_RAG/NyayaSetu_Preprocessing.ipynb\" target=\"_parent\"><img src=\"https://colab.research.google.com/assets/colab-badge.svg\" alt=\"Open In Colab\"/></a>"
      ]
    },
    {
      "cell_type": "markdown",
      "metadata": {
        "id": "EBymoRui3WDo"
      },
      "source": [
        "## Dependencies"
      ]
    },
    {
      "cell_type": "code",
      "execution_count": 79,
      "metadata": {
        "colab": {
          "base_uri": "https://localhost:8080/"
        },
        "id": "eG1QVFKx28lk",
        "outputId": "b1748732-6efa-4f2b-80b5-ccb02305546d"
      },
      "outputs": [
        {
          "output_type": "stream",
          "name": "stdout",
          "text": [
            "\u001b[33mWARNING: pinecone 6.0.2 does not provide the extra 'async'\u001b[0m\u001b[33m\n",
            "\u001b[2K   \u001b[90m━━━━━━━━━━━━━━━━━━━━━━━━━━━━━━━━━━━━━━━━\u001b[0m \u001b[32m1.2/1.2 MB\u001b[0m \u001b[31m14.2 MB/s\u001b[0m eta \u001b[36m0:00:00\u001b[0m\n",
            "\u001b[?25h"
          ]
        }
      ],
      "source": [
        "%pip install --quiet -U langchain langchain-community pymupdf langchain-huggingface langchain-pinecone pinecone-notebooks tiktoken"
      ]
    },
    {
      "cell_type": "markdown",
      "metadata": {
        "id": "_qB72coB4eCz"
      },
      "source": [
        "## Environment"
      ]
    },
    {
      "cell_type": "code",
      "execution_count": 39,
      "metadata": {
        "id": "y3R7EV4-3YZM"
      },
      "outputs": [],
      "source": [
        "from google.colab import userdata\n",
        "import os"
      ]
    },
    {
      "cell_type": "code",
      "execution_count": 40,
      "metadata": {
        "id": "061CJHGg4Yo8"
      },
      "outputs": [],
      "source": [
        "os.environ['PINECONE_API_KEY']=userdata.get('PINECONE_API_KEY')"
      ]
    },
    {
      "cell_type": "code",
      "execution_count": 41,
      "metadata": {
        "id": "YWBTC4LU4hYd"
      },
      "outputs": [],
      "source": [
        "from langchain_pinecone import PineconeVectorStore\n",
        "from pinecone import Pinecone,ServerlessSpec\n",
        "\n",
        "\n",
        "from pathlib import Path\n",
        "from langchain_community.document_loaders import PyMuPDFLoader\n",
        "from langchain_text_splitters import RecursiveCharacterTextSplitter\n",
        "from langchain_huggingface import HuggingFaceEmbeddings\n",
        "\n",
        "from uuid import uuid4\n",
        "import time"
      ]
    },
    {
      "cell_type": "markdown",
      "metadata": {
        "id": "s0XRKzTk72nH"
      },
      "source": [
        "## Document Loading and Chunking"
      ]
    },
    {
      "cell_type": "code",
      "execution_count": 68,
      "metadata": {
        "colab": {
          "base_uri": "https://localhost:8080/"
        },
        "id": "sM2O4Vvm-yRp",
        "outputId": "507fa2ae-5dd7-4afe-98d0-fca89fc6d8f6"
      },
      "outputs": [
        {
          "output_type": "stream",
          "name": "stdout",
          "text": [
            "/content/Knowledge_base/Corruption in Indian Railways_ Comprehensive Analy.pdf\n",
            "/content/Knowledge_base/railway_protection_force_act_1957.pdf\n",
            "/content/Knowledge_base/railways_act_1989.pdf\n",
            "/content/Knowledge_base/Comprehensive Guide to Indian Railways Rules and R.pdf\n"
          ]
        },
        {
          "output_type": "execute_result",
          "data": {
            "text/plain": [
              "[None, None, None, None]"
            ]
          },
          "metadata": {},
          "execution_count": 68
        }
      ],
      "source": [
        "data_dir = '/content/Knowledge_base'\n",
        "[print(i) for i in Path(data_dir).glob(\"*.pdf\")]"
      ]
    },
    {
      "cell_type": "code",
      "execution_count": 83,
      "metadata": {
        "colab": {
          "base_uri": "https://localhost:8080/"
        },
        "id": "mDh2lpQ79D_z",
        "outputId": "d3e61726-da9e-48e0-fa17-18d5d04686cb"
      },
      "outputs": [
        {
          "output_type": "stream",
          "name": "stdout",
          "text": [
            "Processing Corruption in Indian Railways_ Comprehensive Analy.pdf...\n",
            "Processing railway_protection_force_act_1957.pdf...\n",
            "Processing railways_act_1989.pdf...\n",
            "Processing Comprehensive Guide to Indian Railways Rules and R.pdf...\n",
            "Processed 328 document chunks\n"
          ]
        }
      ],
      "source": [
        "# import re\n",
        "from pathlib import Path\n",
        "from pymupdf import Document\n",
        "from langchain.document_loaders import PyMuPDFLoader\n",
        "from langchain.text_splitter import RecursiveCharacterTextSplitter\n",
        "\n",
        "# def extract_legal_sections(text: str) -> list:\n",
        "#     \"\"\"Enhanced extraction of legal references with subsections\"\"\"\n",
        "#     pattern = r\"\"\"\n",
        "#         (?i)                      # Case-insensitive\n",
        "#         \\b                        # Word boundary\n",
        "#         (\n",
        "#             Section|§|            # Section symbols\n",
        "#             Article|Art\\.|        # Article variations\n",
        "#             Chapter|Ch\\.|         # Chapter variations\n",
        "#             Rule|Regulation|Reg\\. # Rules/regulations\n",
        "#             Clause|Subsection|    # Subsections\n",
        "#             Schedule|Form|        # Schedules and forms\n",
        "#             Part|Division|        # Document divisions\n",
        "#             Act\\sNo\\.|            # Act numbers\n",
        "#             [A-Z]{2,}             # All caps acronyms (e.g., RPF)\n",
        "#         )\n",
        "#         \\s*                       # Optional whitespace\n",
        "#         (\n",
        "#             (?:[0-9]+[A-Z]*       # Base number with optional letter\n",
        "#             (?:\\([0-9A-Za-z]+\\))* # Multiple nested subsections\n",
        "#             (?:\\.[0-9]+)*         # Decimal points\n",
        "#             )|\n",
        "#             [IVXLCDM]+            # Roman numerals\n",
        "#         )\n",
        "#         (?=\\b|[,.;)])             # Lookahead for valid terminators\n",
        "#     \"\"\"\n",
        "#     matches = re.findall(pattern, text, re.VERBOSE)\n",
        "#     return [' '.join(match).strip() for match in matches if any(match)]\n",
        "\n",
        "def process_pdf_document(file_path: str) -> list:\n",
        "    \"\"\"Process a single PDF document with enhanced metadata\"\"\"\n",
        "    loader = PyMuPDFLoader(file_path)\n",
        "    docs = loader.load()\n",
        "\n",
        "    for doc in docs:\n",
        "        # Enhanced metadata\n",
        "        doc.metadata.update({\n",
        "            \"source\": Path(file_path).name,\n",
        "            # \"sections\": extract_legal_sections(doc.page_content),\n",
        "        })\n",
        "\n",
        "    return docs\n",
        "\n",
        "def preprocess_legal_documents(data_dir: str = '/content/Knowledge_base') -> list:\n",
        "    \"\"\"Process all PDFs in directory with optimal chunking\"\"\"\n",
        "    text_splitter = RecursiveCharacterTextSplitter.from_tiktoken_encoder(\n",
        "        chunk_size=300,\n",
        "        chunk_overlap=100,\n",
        "    )\n",
        "\n",
        "    all_docs = []\n",
        "    for pdf_file in Path(data_dir).glob('*.pdf'):\n",
        "        print(f\"Processing {pdf_file.name}...\")\n",
        "        docs = process_pdf_document(str(pdf_file))\n",
        "        chunks = text_splitter.split_documents(docs)\n",
        "        all_docs.extend(chunks)\n",
        "\n",
        "    print(f\"Processed {len(all_docs)} document chunks\")\n",
        "    return all_docs\n",
        "\n",
        "# Usage\n",
        "documents = preprocess_legal_documents()"
      ]
    },
    {
      "cell_type": "code",
      "source": [
        "documents[:1]"
      ],
      "metadata": {
        "colab": {
          "base_uri": "https://localhost:8080/"
        },
        "id": "vhpu5cmt3Zek",
        "outputId": "783d87d2-f25c-426e-885e-785c94b5c733"
      },
      "execution_count": 84,
      "outputs": [
        {
          "output_type": "execute_result",
          "data": {
            "text/plain": [
              "[Document(metadata={'producer': 'Skia/PDF m127', 'creator': 'Chromium', 'creationdate': '2025-04-13T01:42:21+00:00', 'source': 'Corruption in Indian Railways_ Comprehensive Analy.pdf', 'file_path': '/content/Knowledge_base/Corruption in Indian Railways_ Comprehensive Analy.pdf', 'total_pages': 5, 'format': 'PDF 1.4', 'title': '', 'author': '', 'subject': '', 'keywords': '', 'moddate': '2025-04-13T01:42:21+00:00', 'trapped': '', 'modDate': \"D:20250413014221+00'00'\", 'creationDate': \"D:20250413014221+00'00'\", 'page': 0}, page_content='This document provides an in-depth examination of corruption scenarios within Indian Railways,\\nanalyzing their operational mechanics, legal implications, and actionable solutions for affected\\npassengers and stakeholders. Drawing from recent cases, policy frameworks, and judicial\\nprecedents, it serves as a comprehensive guide for navigating corruption-related challenges.\\nScenario: Railway officials collude with contractors to manipulate tender processes, often\\ndemanding bribes for favorable contract awards. A 2025 case in Bihar’s East Central Railway\\nzone involved Deputy Accounts Advisor Anurag Gaurav and officer Vikas Kumar accepting\\nbribes to award a ₹15 crore contract to M/s Anand Raj Infratech\\n.\\nImpact:\\nLegal Framework:\\nPassenger/Contractor Response:\\nCorruption in Indian Railways: Comprehensive\\nAnalysis and Passenger Empowerment Strategies\\nUnderstanding the Corruption Ecosystem in Indian Railways\\n1. Procurement and Contract Allocation Corruption\\n[1]\\nInflated project costs compromising infrastructure quality\\nUnqualified contractors winning bids through illicit means\\nDelayed project completion due to incompetent execution\\nPrevention of Corruption Act, 1988: Criminalizes bribery in public office (Section 7)\\n.\\n[2]\\nISO 37001:2016 Compliance: IRCTC’s anti-bribery management system mandates due\\ndiligence on third-party partners\\n.\\n[3]')]"
            ]
          },
          "metadata": {},
          "execution_count": 84
        }
      ]
    },
    {
      "cell_type": "markdown",
      "metadata": {
        "id": "O5WSxjWBVd4c"
      },
      "source": [
        "## Embedding & Vector Store"
      ]
    },
    {
      "cell_type": "code",
      "execution_count": 85,
      "metadata": {
        "id": "bkElzzSP6Jfq"
      },
      "outputs": [],
      "source": [
        "index_name = 'nyayasetu'\n",
        "pc = Pinecone() #setting up connection with PineCone"
      ]
    },
    {
      "cell_type": "code",
      "execution_count": 86,
      "metadata": {
        "colab": {
          "base_uri": "https://localhost:8080/"
        },
        "id": "u2H8nZTF6On0",
        "outputId": "d61ed2e5-946b-43f4-b427-e1f0e22f5bd4"
      },
      "outputs": [
        {
          "output_type": "execute_result",
          "data": {
            "text/plain": [
              "['advanceragpipeline', 'graminsaathi', 'krishiarya']"
            ]
          },
          "metadata": {},
          "execution_count": 86
        }
      ],
      "source": [
        "existing_index = [i.name for i in pc.list_indexes()] #checking for existing indexes\n",
        "existing_index"
      ]
    },
    {
      "cell_type": "code",
      "execution_count": 87,
      "metadata": {
        "id": "-SLg1HW96S5k"
      },
      "outputs": [],
      "source": [
        "if index_name not in existing_index:\n",
        "    pc.create_index(\n",
        "        name = index_name,\n",
        "        dimension = 768,\n",
        "        metric = 'cosine',\n",
        "        spec=ServerlessSpec(cloud=\"aws\", region=\"us-east-1\")\n",
        "    )\n",
        "    while not pc.describe_index(index_name).status['ready']:\n",
        "        time.sleep(1)\n",
        "else:\n",
        "    print(f'Index {index_name} already exists')"
      ]
    },
    {
      "cell_type": "code",
      "execution_count": 88,
      "metadata": {
        "id": "A8rBdbt-ZN4Z"
      },
      "outputs": [],
      "source": [
        "# !pip install --upgrade numpy\n",
        "# !pip install --upgrade scipy transformers\n",
        "# This need to be done once as I am missing some packages"
      ]
    },
    {
      "cell_type": "code",
      "execution_count": 89,
      "metadata": {
        "colab": {
          "base_uri": "https://localhost:8080/"
        },
        "id": "E63LiXN89D8Z",
        "outputId": "93edee54-3624-4090-a329-590c63221d07"
      },
      "outputs": [
        {
          "output_type": "stream",
          "name": "stderr",
          "text": [
            "WARNING:sentence_transformers.SentenceTransformer:No sentence-transformers model found with name nlpaueb/legal-bert-base-uncased. Creating a new one with mean pooling.\n"
          ]
        }
      ],
      "source": [
        "embeddings = HuggingFaceEmbeddings(\n",
        "        model_name=\"nlpaueb/legal-bert-base-uncased\",\n",
        "        model_kwargs={'device': 'cpu'},\n",
        "        encode_kwargs={'normalize_embeddings': True}\n",
        "    )\n",
        "\n",
        "index = pc.Index(index_name)\n",
        "vector_store = PineconeVectorStore(index=index,embedding=embeddings)\n",
        "\n",
        "#testing first\n",
        "# single = documents[:2]\n",
        "# vector_store.add_documents(documents=single)"
      ]
    },
    {
      "cell_type": "code",
      "execution_count": 90,
      "metadata": {
        "id": "WyLYAbtTadI2",
        "colab": {
          "base_uri": "https://localhost:8080/"
        },
        "outputId": "4b1ae559-fc19-4c03-bae4-6484a8e37d32"
      },
      "outputs": [
        {
          "output_type": "stream",
          "name": "stdout",
          "text": [
            "Batch 1 added successfully.\n",
            "Batch 2 added successfully.\n",
            "Batch 3 added successfully.\n",
            "Batch 4 added successfully.\n"
          ]
        }
      ],
      "source": [
        "batch_size = 100\n",
        "\n",
        "for i in range(0, len(documents), batch_size):\n",
        "    batch_docs = documents[i:i+batch_size]\n",
        "    batch_uuids = uuids[i:i+batch_size]\n",
        "\n",
        "    try:\n",
        "        vector_store.add_documents(documents=batch_docs, ids=batch_uuids)\n",
        "        print(f\"Batch {i//batch_size + 1} added successfully.\")\n",
        "    except Exception as e:\n",
        "        print(f\"Error adding batch {i//batch_size + 1}: {e}\")\n"
      ]
    },
    {
      "cell_type": "code",
      "execution_count": 91,
      "metadata": {
        "id": "BUg20g8y7mW5"
      },
      "outputs": [],
      "source": [
        "#Checking Retrival\n",
        "\n",
        "retriever = vector_store.as_retriever(\n",
        "    search_type = 'similarity_score_threshold',\n",
        "    search_kwargs = {'k':5,'score_threshold':0.7},\n",
        ")"
      ]
    },
    {
      "cell_type": "code",
      "source": [
        "retriever.get_relevant_documents('Fines in Railway')"
      ],
      "metadata": {
        "colab": {
          "base_uri": "https://localhost:8080/"
        },
        "id": "ElZrcJ8kqprN",
        "outputId": "4abe0404-d480-4704-fd39-08e88e26f8af"
      },
      "execution_count": 92,
      "outputs": [
        {
          "output_type": "execute_result",
          "data": {
            "text/plain": [
              "[Document(id='de2da2c6-fb67-4b21-85e1-34ba54134df9', metadata={'author': '', 'creationDate': \"D:20250413014221+00'00'\", 'creationdate': '2025-04-13T01:42:21+00:00', 'creator': 'Chromium', 'file_path': '/content/Knowledge_base/Corruption in Indian Railways_ Comprehensive Analy.pdf', 'format': 'PDF 1.4', 'keywords': '', 'modDate': \"D:20250413014221+00'00'\", 'moddate': '2025-04-13T01:42:21+00:00', 'page': 2.0, 'producer': 'Skia/PDF m127', 'source': 'Corruption in Indian Railways_ Comprehensive Analy.pdf', 'subject': '', 'title': '', 'total_pages': 5.0, 'trapped': ''}, page_content='1. IRCTC’s Four-Pillar Strategy\\n1. Prevention: Mandatory e-procurement portals with AI anomaly detection\\n.\\n[3]\\n2. Detection: Bi-annual audits by KPMG-led consortium\\n.\\n[3]\\n3. Response: 72-hour resolution timeline for vigilance complaints\\n.\\n[3]\\n4. Improvement: ISO 37001 recertification every 18 months\\n.\\n[3]\\n2. CBI’s Railway Corruption Cell\\nSpecialized wing with 150 officers across zones\\nCryptocurrency tracking for digital bribe transactions[4]\\nDecoy operation teams conducting random integrity tests'),\n",
              " Document(id='ecbfa4d7-4a5a-418a-9ddf-2540405b2656', metadata={'author': 'India Code', 'creationDate': \"D:20240226155849+05'30'\", 'creationdate': '2024-02-26T15:58:49+05:30', 'creator': 'Microsoft® Word 2019', 'file_path': '/content/Knowledge_base/railways_act_1989.pdf', 'format': 'PDF 1.7', 'keywords': '', 'modDate': \"D:20240226155849+05'30'\", 'moddate': '2024-02-26T15:58:49+05:30', 'page': 7.0, 'producer': 'Microsoft® Word 2019', 'source': 'railways_act_1989.pdf', 'subject': '', 'title': '', 'total_pages': 61.0, 'trapped': ''}, page_content='8 \\n \\nSECTIONS \\n197. Matters supplemental to the definitions of “railway” and “railway servant”. \\n198. General power to make rules. \\n199. Rules to be laid before Parliament. \\n200. Repeal and saving.'),\n",
              " Document(id='046c5a38-4360-40cf-8574-bc2c5a34d045', metadata={'author': '', 'creationDate': \"D:20250413014221+00'00'\", 'creationdate': '2025-04-13T01:42:21+00:00', 'creator': 'Chromium', 'file_path': '/content/Knowledge_base/Corruption in Indian Railways_ Comprehensive Analy.pdf', 'format': 'PDF 1.4', 'keywords': '', 'modDate': \"D:20250413014221+00'00'\", 'moddate': '2025-04-13T01:42:21+00:00', 'page': 1.0, 'producer': 'Skia/PDF m127', 'source': 'Corruption in Indian Railways_ Comprehensive Analy.pdf', 'subject': '', 'title': '', 'total_pages': 5.0, 'trapped': ''}, page_content='.\\n[4]\\nRailway Servants (Discipline & Appeal) Rules, 1968: Mandates dismissal for corruption\\n.\\n[4]\\nSecretly record bribe demands using smartphone apps\\nSubmit written complaints to DRM office with exam details\\nUtilize CBI’s online complaint portal (https://cbi.gov.in) with transaction proofs\\n3. Ticketing and Travel-Related Corruption\\nA. Tatkal Ticket Scams\\n[6]\\nTTEs demanding \"seat confirmation charges\" for vacant berths\\nFake penalty receipts issued for luggage violations\\nUnauthorized upgrades to higher classes for cash\\nSection 138: Entitles full refund for service deficiencies\\n.\\n[6]\\nSection 142: Prohibits unauthorized fare collection\\n.\\n[6]\\n1. Collect evidence (photos of coach numbers, audio of demands)\\n2. File TDR (Ticket Deposit Receipt) within 72 hours via IRCTC\\n3. Escalate to RailMadad app (Case ID mandatory) and NHRC for delays'),\n",
              " Document(id='e1754623-9b80-484d-92b1-e28e718c1562', metadata={'author': 'HP', 'creationDate': 'D:20180924090802', 'creationdate': 'D:20180924090802', 'creator': 'Microsoft® Office Word 2007', 'file_path': '/content/Knowledge_base/railway_protection_force_act_1957.pdf', 'format': 'PDF 1.5', 'keywords': '', 'modDate': 'D:20180924090802', 'moddate': 'D:20180924090802', 'page': 0.0, 'producer': 'Microsoft® Office Word 2007', 'source': 'railway_protection_force_act_1957.pdf', 'subject': '', 'title': '', 'total_pages': 8.0, 'trapped': ''}, page_content='15. Officers and members of the Force to be considered always on duty and liable to be employed in \\nany part of the railways. \\n15A. Restrictions respecting right to Form association, etc. \\n16. Responsibilities of members of the Force during suspension. \\n16A. Surrender of certificate, arms, etc., by persons ceasing to be members of the Force. \\n17. Penalties for neglect of duty, etc. \\n18. Application of Act 22 of 1922 to members of the Force. \\n19. Certain Acts not to apply to members of the Force. \\n20. Protection of acts of members of the Force. \\n21. Power to make rules. \\nTHE SCHEDULE.'),\n",
              " Document(id='3be49f59-6646-459d-b66a-5f647647f16d', metadata={'author': 'India Code', 'creationDate': \"D:20240226155849+05'30'\", 'creationdate': '2024-02-26T15:58:49+05:30', 'creator': 'Microsoft® Word 2019', 'file_path': '/content/Knowledge_base/railways_act_1989.pdf', 'format': 'PDF 1.7', 'keywords': '', 'modDate': \"D:20240226155849+05'30'\", 'moddate': '2024-02-26T15:58:49+05:30', 'page': 17.0, 'producer': 'Microsoft® Word 2019', 'source': 'railways_act_1989.pdf', 'subject': '', 'title': '', 'total_pages': 61.0, 'trapped': ''}, page_content='shall set out the grounds thereof and the competent authority shall give the objector an opportunity of \\nbeing heard, either in person or by a legal practitioner, and may, after hearing all such objections and after \\nmaking such further enquiry, if any, as the competent authority thinks necessary, by order, either allow or \\ndisallow the objections. \\n                                                           \\n1. Ins. by Act 11 of 2008, s. 3 (w.e.f. 31-1-2008).')]"
            ]
          },
          "metadata": {},
          "execution_count": 92
        }
      ]
    },
    {
      "cell_type": "code",
      "source": [],
      "metadata": {
        "id": "xv7vdEi6rBPy"
      },
      "execution_count": 92,
      "outputs": []
    }
  ],
  "metadata": {
    "colab": {
      "provenance": [],
      "authorship_tag": "ABX9TyNn/fSr0/TQ0Sshy2341Bis",
      "include_colab_link": true
    },
    "kernelspec": {
      "display_name": "Python 3",
      "name": "python3"
    },
    "language_info": {
      "name": "python"
    }
  },
  "nbformat": 4,
  "nbformat_minor": 0
}